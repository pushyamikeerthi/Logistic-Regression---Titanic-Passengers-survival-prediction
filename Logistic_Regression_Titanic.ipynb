{
 "cells": [
  {
   "cell_type": "markdown",
   "metadata": {},
   "source": [
    "# 1)Importing Libraries"
   ]
  },
  {
   "cell_type": "markdown",
   "metadata": {},
   "source": [
    "Importing the OS module for changing working Directory.\n",
    "\n",
    "chdir method in OS module changes the current directory to thedirectory containing data set that I will use for the demo.\n",
    "\n",
    "PANDAS,NUMPY for data manuplation.\n",
    " \n",
    "Matplotlib,seaborn module for Data Visualisation.    \n",
    "\n",
    "statsmodels for modelling"
   ]
  },
  {
   "cell_type": "code",
   "execution_count": 1,
   "metadata": {},
   "outputs": [],
   "source": [
    "import os\n",
    "\n",
    "data_dir ='C:\\\\Users\\\\Keerthi\\\\Desktop\\\\Jigsaw\\\\10 UC-Advance Analytics & Machine Learning\\\\02-Assignment\\\\week-3'\n",
    "os.chdir(data_dir)\n",
    "\n",
    "import pandas as pd\n",
    "import numpy as np\n",
    "\n",
    "\n",
    "import matplotlib.pyplot as plt\n",
    "import seaborn as sns \n",
    "import statsmodels.api as sm"
   ]
  },
  {
   "cell_type": "markdown",
   "metadata": {},
   "source": [
    "Within this directory 'data_dir' there is a file called boston.csv                                                              \n",
    "I will read this file using read_csv method in the PANDAS module and after I have created a PANDAS data frame   \n",
    "Shape method in pandas module helps in knowing the number of rows ans coulmns present in the data  \n",
    "I will take a look at the columns,dtypes of this data set       "
   ]
  },
  {
   "cell_type": "markdown",
   "metadata": {},
   "source": [
    "# 2) Reading Dataset\n"
   ]
  },
  {
   "cell_type": "code",
   "execution_count": 2,
   "metadata": {},
   "outputs": [
    {
     "name": "stdout",
     "output_type": "stream",
     "text": [
      "Shape of the Dataset--> (891, 12)\n",
      "dtypes of the Dataset--> PassengerId      int64\n",
      "Survived         int64\n",
      "Pclass           int64\n",
      "Name            object\n",
      "Sex             object\n",
      "Age            float64\n",
      "SibSp            int64\n",
      "Parch            int64\n",
      "Ticket          object\n",
      "Fare           float64\n",
      "Cabin           object\n",
      "Embarked        object\n",
      "dtype: object\n"
     ]
    },
    {
     "data": {
      "text/html": [
       "<div>\n",
       "<style scoped>\n",
       "    .dataframe tbody tr th:only-of-type {\n",
       "        vertical-align: middle;\n",
       "    }\n",
       "\n",
       "    .dataframe tbody tr th {\n",
       "        vertical-align: top;\n",
       "    }\n",
       "\n",
       "    .dataframe thead th {\n",
       "        text-align: right;\n",
       "    }\n",
       "</style>\n",
       "<table border=\"1\" class=\"dataframe\">\n",
       "  <thead>\n",
       "    <tr style=\"text-align: right;\">\n",
       "      <th></th>\n",
       "      <th>PassengerId</th>\n",
       "      <th>Survived</th>\n",
       "      <th>Pclass</th>\n",
       "      <th>Name</th>\n",
       "      <th>Sex</th>\n",
       "      <th>Age</th>\n",
       "      <th>SibSp</th>\n",
       "      <th>Parch</th>\n",
       "      <th>Ticket</th>\n",
       "      <th>Fare</th>\n",
       "      <th>Cabin</th>\n",
       "      <th>Embarked</th>\n",
       "    </tr>\n",
       "  </thead>\n",
       "  <tbody>\n",
       "    <tr>\n",
       "      <th>0</th>\n",
       "      <td>1</td>\n",
       "      <td>0</td>\n",
       "      <td>3</td>\n",
       "      <td>Braund, Mr. Owen Harris</td>\n",
       "      <td>male</td>\n",
       "      <td>22.0</td>\n",
       "      <td>1</td>\n",
       "      <td>0</td>\n",
       "      <td>A/5 21171</td>\n",
       "      <td>7.2500</td>\n",
       "      <td>NaN</td>\n",
       "      <td>S</td>\n",
       "    </tr>\n",
       "    <tr>\n",
       "      <th>1</th>\n",
       "      <td>2</td>\n",
       "      <td>1</td>\n",
       "      <td>1</td>\n",
       "      <td>Cumings, Mrs. John Bradley (Florence Briggs Th...</td>\n",
       "      <td>female</td>\n",
       "      <td>38.0</td>\n",
       "      <td>1</td>\n",
       "      <td>0</td>\n",
       "      <td>PC 17599</td>\n",
       "      <td>71.2833</td>\n",
       "      <td>C85</td>\n",
       "      <td>C</td>\n",
       "    </tr>\n",
       "    <tr>\n",
       "      <th>2</th>\n",
       "      <td>3</td>\n",
       "      <td>1</td>\n",
       "      <td>3</td>\n",
       "      <td>Heikkinen, Miss. Laina</td>\n",
       "      <td>female</td>\n",
       "      <td>26.0</td>\n",
       "      <td>0</td>\n",
       "      <td>0</td>\n",
       "      <td>STON/O2. 3101282</td>\n",
       "      <td>7.9250</td>\n",
       "      <td>NaN</td>\n",
       "      <td>S</td>\n",
       "    </tr>\n",
       "    <tr>\n",
       "      <th>3</th>\n",
       "      <td>4</td>\n",
       "      <td>1</td>\n",
       "      <td>1</td>\n",
       "      <td>Futrelle, Mrs. Jacques Heath (Lily May Peel)</td>\n",
       "      <td>female</td>\n",
       "      <td>35.0</td>\n",
       "      <td>1</td>\n",
       "      <td>0</td>\n",
       "      <td>113803</td>\n",
       "      <td>53.1000</td>\n",
       "      <td>C123</td>\n",
       "      <td>S</td>\n",
       "    </tr>\n",
       "    <tr>\n",
       "      <th>4</th>\n",
       "      <td>5</td>\n",
       "      <td>0</td>\n",
       "      <td>3</td>\n",
       "      <td>Allen, Mr. William Henry</td>\n",
       "      <td>male</td>\n",
       "      <td>35.0</td>\n",
       "      <td>0</td>\n",
       "      <td>0</td>\n",
       "      <td>373450</td>\n",
       "      <td>8.0500</td>\n",
       "      <td>NaN</td>\n",
       "      <td>S</td>\n",
       "    </tr>\n",
       "  </tbody>\n",
       "</table>\n",
       "</div>"
      ],
      "text/plain": [
       "   PassengerId  Survived  Pclass  \\\n",
       "0            1         0       3   \n",
       "1            2         1       1   \n",
       "2            3         1       3   \n",
       "3            4         1       1   \n",
       "4            5         0       3   \n",
       "\n",
       "                                                Name     Sex   Age  SibSp  \\\n",
       "0                            Braund, Mr. Owen Harris    male  22.0      1   \n",
       "1  Cumings, Mrs. John Bradley (Florence Briggs Th...  female  38.0      1   \n",
       "2                             Heikkinen, Miss. Laina  female  26.0      0   \n",
       "3       Futrelle, Mrs. Jacques Heath (Lily May Peel)  female  35.0      1   \n",
       "4                           Allen, Mr. William Henry    male  35.0      0   \n",
       "\n",
       "   Parch            Ticket     Fare Cabin Embarked  \n",
       "0      0         A/5 21171   7.2500   NaN        S  \n",
       "1      0          PC 17599  71.2833   C85        C  \n",
       "2      0  STON/O2. 3101282   7.9250   NaN        S  \n",
       "3      0            113803  53.1000  C123        S  \n",
       "4      0            373450   8.0500   NaN        S  "
      ]
     },
     "execution_count": 2,
     "metadata": {},
     "output_type": "execute_result"
    }
   ],
   "source": [
    "titanic = pd.read_csv('titanic.csv')\n",
    "print('Shape of the Dataset-->',titanic.shape)\n",
    "print('dtypes of the Dataset-->',titanic.dtypes)\n",
    "\n",
    "titanic.head()\n",
    "\n"
   ]
  },
  {
   "cell_type": "markdown",
   "metadata": {},
   "source": [
    "Data set consists of 12 attributes mixed of Qualitative(categorical) and Quantitative(numeric).\n",
    "\n",
    "Qualitative Attributes: PassengerId, Survived, Pclass,Name, Sex, Ticket, Cabin & Embarked.\n",
    "\n",
    "Quantitative Attributes: SlibSp, Parch & Fare"
   ]
  },
  {
   "cell_type": "markdown",
   "metadata": {},
   "source": [
    "# 3)Data preprocessing of Training Dataset\n",
    " For achieving better results from the applied model in Machine Learning projects the format of the data has to be in a proper manner.We will have to check for the following                                                                                      (i) Missing values                                                                                                                 (ii) Outliers"
   ]
  },
  {
   "cell_type": "markdown",
   "metadata": {},
   "source": [
    "### checking all the attributes for missing values."
   ]
  },
  {
   "cell_type": "code",
   "execution_count": 3,
   "metadata": {},
   "outputs": [
    {
     "name": "stdout",
     "output_type": "stream",
     "text": [
      "PassengerId      0\n",
      "Survived         0\n",
      "Pclass           0\n",
      "Name             0\n",
      "Sex              0\n",
      "Age            177\n",
      "SibSp            0\n",
      "Parch            0\n",
      "Ticket           0\n",
      "Fare             0\n",
      "Cabin          687\n",
      "Embarked         2\n",
      "dtype: int64\n"
     ]
    }
   ],
   "source": [
    "print(titanic.isnull().sum() )"
   ]
  },
  {
   "cell_type": "code",
   "execution_count": 4,
   "metadata": {},
   "outputs": [
    {
     "data": {
      "text/plain": [
       "<matplotlib.axes._subplots.AxesSubplot at 0x1dc2fd7d470>"
      ]
     },
     "execution_count": 4,
     "metadata": {},
     "output_type": "execute_result"
    },
    {
     "data": {
      "image/png": "[encoded data removed]",
      "text/plain": [
       "<Figure size 432x288 with 1 Axes>"
      ]
     },
     "metadata": {
      "needs_background": "light"
     },
     "output_type": "display_data"
    }
   ],
   "source": [
    "sns.heatmap(titanic.isnull(), cbar=False)"
   ]
  },
  {
   "cell_type": "markdown",
   "metadata": {},
   "source": [
    "It is clear that Age, Cabin and Embarked are the only attributes where we have missing values.\n",
    "\n",
    "\n",
    "\n",
    "Embarked attribute is having missing values, best way to fill this would be by most occurred value. In this data set most occurred value for Embarked attribute is ‘S’.\n",
    "\n",
    "\n",
    "Age is also a numeric attribute and having missing values. Filling the missing values in age attribute is tricky one. We are generating random numbers between (mean — std) and (mean + std) and filling the same. We categorized age into 5 range.\n",
    "\n",
    "\n"
   ]
  },
  {
   "cell_type": "markdown",
   "metadata": {},
   "source": [
    "#### Impute Missing Values"
   ]
  },
  {
   "cell_type": "code",
   "execution_count": 5,
   "metadata": {},
   "outputs": [],
   "source": [
    "#Cabin\n",
    "titanic['Cabin'].fillna(titanic['Cabin'].mode()[0], inplace = True)\n"
   ]
  },
  {
   "cell_type": "code",
   "execution_count": 6,
   "metadata": {},
   "outputs": [],
   "source": [
    "#Embarked\n",
    "titanic['Embarked'].fillna(titanic['Embarked'].mode()[0], inplace = True)\n"
   ]
  },
  {
   "cell_type": "code",
   "execution_count": 7,
   "metadata": {},
   "outputs": [],
   "source": [
    "#Age\n",
    "titanic['Age'].fillna(titanic['Age'].median(), inplace = True)\n"
   ]
  },
  {
   "cell_type": "code",
   "execution_count": 8,
   "metadata": {},
   "outputs": [
    {
     "name": "stderr",
     "output_type": "stream",
     "text": [
      "C:\\Users\\Keerthi\\Anaconda3\\lib\\site-packages\\scipy\\stats\\stats.py:1713: FutureWarning: Using a non-tuple sequence for multidimensional indexing is deprecated; use `arr[tuple(seq)]` instead of `arr[seq]`. In the future this will be interpreted as an array index, `arr[np.array(seq)]`, which will result either in an error or a different result.\n",
      "  return np.add.reduce(sorted[indexer] * weights, axis=axis) / sumval\n"
     ]
    },
    {
     "data": {
      "image/png": "[encoded data removed]",
      "text/plain": [
       "<Figure size 1584x720 with 1 Axes>"
      ]
     },
     "metadata": {
      "needs_background": "light"
     },
     "output_type": "display_data"
    }
   ],
   "source": [
    "## Let's look at the histogram after missing value imputation\n",
    "plt.subplots(figsize = (22,10),)\n",
    "sns.distplot(titanic.Age, bins = 100, kde = True, rug = False, norm_hist=False);"
   ]
  },
  {
   "cell_type": "markdown",
   "metadata": {},
   "source": [
    "### Outliers"
   ]
  },
  {
   "cell_type": "markdown",
   "metadata": {},
   "source": [
    "### Plot of Independent Numerical variable"
   ]
  },
  {
   "cell_type": "code",
   "execution_count": 9,
   "metadata": {},
   "outputs": [
    {
     "name": "stderr",
     "output_type": "stream",
     "text": [
      "C:\\Users\\Keerthi\\Anaconda3\\lib\\site-packages\\scipy\\stats\\stats.py:1713: FutureWarning: Using a non-tuple sequence for multidimensional indexing is deprecated; use `arr[tuple(seq)]` instead of `arr[seq]`. In the future this will be interpreted as an array index, `arr[np.array(seq)]`, which will result either in an error or a different result.\n",
      "  return np.add.reduce(sorted[indexer] * weights, axis=axis) / sumval\n"
     ]
    },
    {
     "data": {
      "image/png": "[encoded data removed]",
      "text/plain": [
       "<Figure size 1152x360 with 2 Axes>"
      ]
     },
     "metadata": {
      "needs_background": "light"
     },
     "output_type": "display_data"
    }
   ],
   "source": [
    "plt.figure(2)\n",
    "plt.subplot(221)\n",
    "df = titanic.dropna()\n",
    "sns.distplot(df['Age']);\n",
    "plt.subplot(222)\n",
    "df['Age'].plot.box(figsize = (16,5))\n",
    "plt.show()"
   ]
  },
  {
   "cell_type": "code",
   "execution_count": 10,
   "metadata": {},
   "outputs": [
    {
     "name": "stderr",
     "output_type": "stream",
     "text": [
      "C:\\Users\\Keerthi\\Anaconda3\\lib\\site-packages\\scipy\\stats\\stats.py:1713: FutureWarning: Using a non-tuple sequence for multidimensional indexing is deprecated; use `arr[tuple(seq)]` instead of `arr[seq]`. In the future this will be interpreted as an array index, `arr[np.array(seq)]`, which will result either in an error or a different result.\n",
      "  return np.add.reduce(sorted[indexer] * weights, axis=axis) / sumval\n"
     ]
    },
    {
     "data": {
      "image/png": "[encoded data removed]",
      "text/plain": [
       "<Figure size 1152x360 with 2 Axes>"
      ]
     },
     "metadata": {
      "needs_background": "light"
     },
     "output_type": "display_data"
    }
   ],
   "source": [
    "plt.figure(3)\n",
    "plt.subplot(321)\n",
    "sns.distplot(titanic['Fare']);\n",
    "plt.subplot(322)\n",
    "titanic['Fare'].plot.box(figsize=(16,5))\n",
    "plt.show()"
   ]
  },
  {
   "cell_type": "markdown",
   "metadata": {},
   "source": [
    "### (b) Summary Statistics\n"
   ]
  },
  {
   "cell_type": "markdown",
   "metadata": {},
   "source": [
    "summary statistics can be created for pandas dataframe using describe method "
   ]
  },
  {
   "cell_type": "code",
   "execution_count": 11,
   "metadata": {},
   "outputs": [
    {
     "name": "stdout",
     "output_type": "stream",
     "text": [
      "       PassengerId    Survived      Pclass         Age       SibSp  \\\n",
      "count   891.000000  891.000000  891.000000  891.000000  891.000000   \n",
      "mean    446.000000    0.383838    2.308642   29.361582    0.523008   \n",
      "std     257.353842    0.486592    0.836071   13.019697    1.102743   \n",
      "min       1.000000    0.000000    1.000000    0.420000    0.000000   \n",
      "25%     223.500000    0.000000    2.000000   22.000000    0.000000   \n",
      "50%     446.000000    0.000000    3.000000   28.000000    0.000000   \n",
      "75%     668.500000    1.000000    3.000000   35.000000    1.000000   \n",
      "max     891.000000    1.000000    3.000000   80.000000    8.000000   \n",
      "\n",
      "            Parch        Fare  \n",
      "count  891.000000  891.000000  \n",
      "mean     0.381594   32.204208  \n",
      "std      0.806057   49.693429  \n",
      "min      0.000000    0.000000  \n",
      "25%      0.000000    7.910400  \n",
      "50%      0.000000   14.454200  \n",
      "75%      0.000000   31.000000  \n",
      "max      6.000000  512.329200  \n"
     ]
    }
   ],
   "source": [
    "print(titanic.describe())\n"
   ]
  },
  {
   "cell_type": "code",
   "execution_count": 12,
   "metadata": {},
   "outputs": [
    {
     "data": {
      "text/html": [
       "<div>\n",
       "<style scoped>\n",
       "    .dataframe tbody tr th:only-of-type {\n",
       "        vertical-align: middle;\n",
       "    }\n",
       "\n",
       "    .dataframe tbody tr th {\n",
       "        vertical-align: top;\n",
       "    }\n",
       "\n",
       "    .dataframe thead th {\n",
       "        text-align: right;\n",
       "    }\n",
       "</style>\n",
       "<table border=\"1\" class=\"dataframe\">\n",
       "  <thead>\n",
       "    <tr style=\"text-align: right;\">\n",
       "      <th></th>\n",
       "      <th>Survived</th>\n",
       "      <th>PassengerId</th>\n",
       "      <th>Pclass</th>\n",
       "      <th>Age</th>\n",
       "      <th>SibSp</th>\n",
       "      <th>Parch</th>\n",
       "      <th>Fare</th>\n",
       "    </tr>\n",
       "  </thead>\n",
       "  <tbody>\n",
       "    <tr>\n",
       "      <th>0</th>\n",
       "      <td>0</td>\n",
       "      <td>447.016393</td>\n",
       "      <td>2.531876</td>\n",
       "      <td>30.028233</td>\n",
       "      <td>0.553734</td>\n",
       "      <td>0.329690</td>\n",
       "      <td>22.117887</td>\n",
       "    </tr>\n",
       "    <tr>\n",
       "      <th>1</th>\n",
       "      <td>1</td>\n",
       "      <td>444.368421</td>\n",
       "      <td>1.950292</td>\n",
       "      <td>28.291433</td>\n",
       "      <td>0.473684</td>\n",
       "      <td>0.464912</td>\n",
       "      <td>48.395408</td>\n",
       "    </tr>\n",
       "  </tbody>\n",
       "</table>\n",
       "</div>"
      ],
      "text/plain": [
       "   Survived  PassengerId    Pclass        Age     SibSp     Parch       Fare\n",
       "0         0   447.016393  2.531876  30.028233  0.553734  0.329690  22.117887\n",
       "1         1   444.368421  1.950292  28.291433  0.473684  0.464912  48.395408"
      ]
     },
     "execution_count": 12,
     "metadata": {},
     "output_type": "execute_result"
    }
   ],
   "source": [
    "# Overview(Survived vs non survied)\n",
    "survived_summary = titanic.groupby(\"Survived\")\n",
    "survived_summary.mean().reset_index()"
   ]
  },
  {
   "cell_type": "markdown",
   "metadata": {},
   "source": [
    "### (c)Exploratory Data Analysis\n"
   ]
  },
  {
   "cell_type": "markdown",
   "metadata": {},
   "source": [
    "### Lets check each attribute one by one and take it’s impact on  data."
   ]
  },
  {
   "cell_type": "markdown",
   "metadata": {},
   "source": [
    "### Bar Plot of Dependent/Target Variable"
   ]
  },
  {
   "cell_type": "code",
   "execution_count": 13,
   "metadata": {},
   "outputs": [
    {
     "data": {
      "text/plain": [
       "<matplotlib.axes._subplots.AxesSubplot at 0x1dc30447780>"
      ]
     },
     "execution_count": 13,
     "metadata": {},
     "output_type": "execute_result"
    },
    {
     "data": {
      "image/png": "[encoded data removed]",
      "text/plain": [
       "<Figure size 432x288 with 1 Axes>"
      ]
     },
     "metadata": {
      "needs_background": "light"
     },
     "output_type": "display_data"
    }
   ],
   "source": [
    "titanic['Survived'].value_counts(normalize = True).plot.bar(title = \"Survival %\")"
   ]
  },
  {
   "cell_type": "markdown",
   "metadata": {},
   "source": [
    "### Bi-Variate Analysis between each feature and target variable"
   ]
  },
  {
   "cell_type": "markdown",
   "metadata": {},
   "source": [
    "##### Pclass"
   ]
  },
  {
   "cell_type": "code",
   "execution_count": 14,
   "metadata": {},
   "outputs": [
    {
     "name": "stdout",
     "output_type": "stream",
     "text": [
      "Survived    0    1\n",
      "Pclass            \n",
      "1          80  136\n",
      "2          97   87\n",
      "3         372  119\n",
      "        Survived\n",
      "Pclass          \n",
      "1       0.629630\n",
      "2       0.472826\n",
      "3       0.242363\n"
     ]
    }
   ],
   "source": [
    "P_Class=pd.crosstab(titanic['Pclass'],titanic['Survived'])\n",
    "print(P_Class)\n",
    "print(titanic[['Pclass','Survived']].groupby(['Pclass']).mean())"
   ]
  },
  {
   "cell_type": "markdown",
   "metadata": {},
   "source": [
    "Pclass is numeric attribute and it does not have any missing value, lets check it’s impact on target attribute."
   ]
  },
  {
   "cell_type": "markdown",
   "metadata": {},
   "source": [
    "Here we have taken mean, this data represents that Pclass=1 survival rate is 62.96%."
   ]
  },
  {
   "cell_type": "markdown",
   "metadata": {},
   "source": [
    "##### SEX"
   ]
  },
  {
   "cell_type": "code",
   "execution_count": 15,
   "metadata": {},
   "outputs": [
    {
     "name": "stdout",
     "output_type": "stream",
     "text": [
      "Survived    0    1\n",
      "Sex               \n",
      "female     81  233\n",
      "male      468  109\n",
      "        Survived\n",
      "Sex             \n",
      "female  0.742038\n",
      "male    0.188908\n"
     ]
    }
   ],
   "source": [
    "Sex=pd.crosstab(titanic['Sex'],titanic['Survived'])\n",
    "print(Sex)\n",
    "print(titanic[['Sex','Survived']].groupby(['Sex']).mean())"
   ]
  },
  {
   "cell_type": "markdown",
   "metadata": {},
   "source": [
    "Sex attribute is categorical attribute having values male or female and does not have missing values.\n",
    "\n"
   ]
  },
  {
   "cell_type": "markdown",
   "metadata": {},
   "source": [
    "Females are more secure, Female survival rate is more than male.\n",
    "\n"
   ]
  },
  {
   "cell_type": "markdown",
   "metadata": {},
   "source": [
    "##### SibSp"
   ]
  },
  {
   "cell_type": "code",
   "execution_count": 16,
   "metadata": {},
   "outputs": [
    {
     "name": "stdout",
     "output_type": "stream",
     "text": [
      "Survived    0    1\n",
      "SibSp             \n",
      "0         398  210\n",
      "1          97  112\n",
      "2          15   13\n",
      "3          12    4\n",
      "4          15    3\n",
      "5           5    0\n",
      "8           7    0\n",
      "       Survived\n",
      "SibSp          \n",
      "0      0.345395\n",
      "1      0.535885\n",
      "2      0.464286\n",
      "3      0.250000\n",
      "4      0.166667\n",
      "5      0.000000\n",
      "8      0.000000\n"
     ]
    }
   ],
   "source": [
    "Siblings=pd.crosstab(titanic['SibSp'],titanic['Survived'])\n",
    "print(Siblings)\n",
    "print(titanic[['SibSp','Survived']].groupby(['SibSp']).mean())"
   ]
  },
  {
   "cell_type": "markdown",
   "metadata": {},
   "source": [
    "SibSp is a numerical attribute represents the siblings/spouse.\n",
    "\n"
   ]
  },
  {
   "cell_type": "markdown",
   "metadata": {},
   "source": [
    "##### Parch"
   ]
  },
  {
   "cell_type": "code",
   "execution_count": 17,
   "metadata": {},
   "outputs": [
    {
     "name": "stdout",
     "output_type": "stream",
     "text": [
      "Survived    0    1\n",
      "Parch             \n",
      "0         445  233\n",
      "1          53   65\n",
      "2          40   40\n",
      "3           2    3\n",
      "4           4    0\n",
      "5           4    1\n",
      "6           1    0\n",
      "       Survived\n",
      "Parch          \n",
      "0      0.343658\n",
      "1      0.550847\n",
      "2      0.500000\n",
      "3      0.600000\n",
      "4      0.000000\n",
      "5      0.200000\n",
      "6      0.000000\n"
     ]
    }
   ],
   "source": [
    "Parents=pd.crosstab(titanic['Parch'],titanic['Survived'])\n",
    "print(Parents)\n",
    "print(titanic[['Parch','Survived']].groupby(['Parch']).mean())"
   ]
  },
  {
   "cell_type": "markdown",
   "metadata": {},
   "source": [
    "Parch is also numerical attribute represents the children/parents.\n",
    "\n"
   ]
  },
  {
   "cell_type": "markdown",
   "metadata": {},
   "source": [
    "##### Embarked"
   ]
  },
  {
   "cell_type": "code",
   "execution_count": 18,
   "metadata": {},
   "outputs": [
    {
     "name": "stdout",
     "output_type": "stream",
     "text": [
      "          Survived\n",
      "Embarked          \n",
      "C         0.553571\n",
      "Q         0.389610\n",
      "S         0.339009\n"
     ]
    }
   ],
   "source": [
    "Embarked=pd.crosstab(titanic['Embarked'],titanic['Survived'])\n",
    "print(titanic[['Embarked','Survived']].groupby(['Embarked']).mean())"
   ]
  },
  {
   "cell_type": "markdown",
   "metadata": {},
   "source": [
    "Embarked attribute is having missing values, best way to fill this would be by most occurred value. In this data set most occurred value for Embarked attribute is ‘S’."
   ]
  },
  {
   "cell_type": "code",
   "execution_count": 19,
   "metadata": {},
   "outputs": [
    {
     "data": {
      "image/png": "[encoded data removed]",
      "text/plain": [
       "<Figure size 288x288 with 1 Axes>"
      ]
     },
     "metadata": {
      "needs_background": "light"
     },
     "output_type": "display_data"
    },
    {
     "data": {
      "image/png": "[encoded data removed]",
      "text/plain": [
       "<Figure size 288x288 with 1 Axes>"
      ]
     },
     "metadata": {
      "needs_background": "light"
     },
     "output_type": "display_data"
    },
    {
     "data": {
      "image/png": "[encoded data removed]",
      "text/plain": [
       "<Figure size 288x288 with 1 Axes>"
      ]
     },
     "metadata": {
      "needs_background": "light"
     },
     "output_type": "display_data"
    },
    {
     "data": {
      "image/png": "[encoded data removed]",
      "text/plain": [
       "<Figure size 288x288 with 1 Axes>"
      ]
     },
     "metadata": {
      "needs_background": "light"
     },
     "output_type": "display_data"
    },
    {
     "data": {
      "image/png": "[encoded data removed]",
      "text/plain": [
       "<Figure size 288x288 with 1 Axes>"
      ]
     },
     "metadata": {
      "needs_background": "light"
     },
     "output_type": "display_data"
    }
   ],
   "source": [
    " \n",
    "P_Class.div(P_Class.sum(1).astype(float), axis=0).plot(kind=\"bar\", stacked=True, figsize=(4,4))\n",
    "plt.show() \n",
    "Sex.div(Sex.sum(1).astype(float), axis=0).plot(kind=\"bar\", stacked=True, figsize=(4,4))\n",
    "plt.show() \n",
    "Siblings.div(Siblings.sum(1).astype(float), axis=0).plot(kind=\"bar\", stacked=True, figsize=(4,4))\n",
    "plt.show() \n",
    "Parents.div(Parents.sum(1).astype(float), axis=0).plot(kind=\"bar\", stacked=True, figsize=(4,4))\n",
    "plt.show() \n",
    "Embarked.div(Embarked.sum(1).astype(float), axis=0).plot(kind=\"bar\", stacked=True, figsize=(4,4))\n",
    "plt.show() "
   ]
  },
  {
   "cell_type": "markdown",
   "metadata": {},
   "source": [
    "1. Survival rate was high for Passengers travelling in 1st and 2nd Class\n",
    "2. Female passengers had a higher survival rate\n",
    "3. Passengers travelling with 1 or 2 siblings/spouse had a higher survival rate\n",
    "4. Passengers travelling with 3 parents/children had a higher survival rate\n",
    "5. Passengers who boarded from Cherbourg survived more\n",
    "From point 3 and 4, it can be inferred that, passengers who were travelling as family with parents/children/spouse/sibilings had a higher survival rate compared to that of lone passengers.\n"
   ]
  },
  {
   "cell_type": "markdown",
   "metadata": {},
   "source": [
    "From point 3 and 4, it can be inferred that, passengers who were travelling as family with parents/children/spouse/sibilings had a higher survival rate compared to that of lone passengers"
   ]
  },
  {
   "cell_type": "markdown",
   "metadata": {},
   "source": [
    "#### PassengerId"
   ]
  },
  {
   "cell_type": "code",
   "execution_count": 20,
   "metadata": {},
   "outputs": [
    {
     "data": {
      "image/png": "[encoded data removed]",
      "text/plain": [
       "<Figure size 432x288 with 1 Axes>"
      ]
     },
     "metadata": {
      "needs_background": "light"
     },
     "output_type": "display_data"
    }
   ],
   "source": [
    "titanic.groupby('Survived')['PassengerId'].mean().plot.bar()\n",
    "plt.show()"
   ]
  },
  {
   "cell_type": "markdown",
   "metadata": {},
   "source": [
    "Passenger Id doesnot seem to have much impact on survival\n",
    "\n"
   ]
  },
  {
   "cell_type": "markdown",
   "metadata": {},
   "source": [
    "##### Age Category"
   ]
  },
  {
   "cell_type": "code",
   "execution_count": 21,
   "metadata": {},
   "outputs": [
    {
     "name": "stderr",
     "output_type": "stream",
     "text": [
      "C:\\Users\\Keerthi\\Anaconda3\\lib\\site-packages\\scipy\\stats\\stats.py:1713: FutureWarning: Using a non-tuple sequence for multidimensional indexing is deprecated; use `arr[tuple(seq)]` instead of `arr[seq]`. In the future this will be interpreted as an array index, `arr[np.array(seq)]`, which will result either in an error or a different result.\n",
      "  return np.add.reduce(sorted[indexer] * weights, axis=axis) / sumval\n"
     ]
    },
    {
     "data": {
      "image/png": "[encoded data removed]",
      "text/plain": [
       "<Figure size 1080x576 with 1 Axes>"
      ]
     },
     "metadata": {
      "needs_background": "light"
     },
     "output_type": "display_data"
    }
   ],
   "source": [
    "fig = plt.figure(figsize=(15,8),)\n",
    "ax=sns.kdeplot(titanic.loc[(titanic['Survived'] == 0),'Age'] , color='gray',shade=True,label='not survived')\n",
    "ax=sns.kdeplot(titanic.loc[(titanic['Survived'] == 1),'Age'] , color='g',shade=True, label='survived')\n",
    "plt.title('Age Distribution - Surviver V.S. Non Survivors', fontsize = 25)\n",
    "plt.xlabel(\"Age\", fontsize = 15)\n",
    "plt.ylabel('Frequency', fontsize = 15);"
   ]
  },
  {
   "cell_type": "markdown",
   "metadata": {},
   "source": [
    "Passengers from Age 0-60 had a higher survial rate. Mostly childrens and teenage, therefore, a good chunk of infant/children were saved.\n",
    "\n",
    "\n",
    "\n"
   ]
  },
  {
   "cell_type": "markdown",
   "metadata": {},
   "source": [
    "#### Fare category "
   ]
  },
  {
   "cell_type": "code",
   "execution_count": 22,
   "metadata": {},
   "outputs": [
    {
     "name": "stderr",
     "output_type": "stream",
     "text": [
      "C:\\Users\\Keerthi\\Anaconda3\\lib\\site-packages\\scipy\\stats\\stats.py:1713: FutureWarning: Using a non-tuple sequence for multidimensional indexing is deprecated; use `arr[tuple(seq)]` instead of `arr[seq]`. In the future this will be interpreted as an array index, `arr[np.array(seq)]`, which will result either in an error or a different result.\n",
      "  return np.add.reduce(sorted[indexer] * weights, axis=axis) / sumval\n"
     ]
    },
    {
     "data": {
      "text/plain": [
       "Text(0.5, 0, 'Fare')"
      ]
     },
     "execution_count": 22,
     "metadata": {},
     "output_type": "execute_result"
    },
    {
     "data": {
      "image/png": "[encoded data removed]",
      "text/plain": [
       "<Figure size 1080x576 with 1 Axes>"
      ]
     },
     "metadata": {
      "needs_background": "light"
     },
     "output_type": "display_data"
    }
   ],
   "source": [
    "# Kernel Density Plot\n",
    "fig = plt.figure(figsize=(15,8),)\n",
    "ax=sns.kdeplot(titanic.loc[(titanic['Survived'] == 0),'Fare'] , color='gray',shade=True,label='not survived')\n",
    "ax=sns.kdeplot(titanic.loc[(titanic['Survived'] == 1),'Fare'] , color='g',shade=True, label='survived')\n",
    "plt.title('Fare Distribution Survived vs Non Survived', fontsize = 25)\n",
    "plt.ylabel(\"Frequency of Passenger Survived\", fontsize = 15)\n",
    "plt.xlabel(\"Fare\", fontsize = 15)"
   ]
  },
  {
   "cell_type": "markdown",
   "metadata": {},
   "source": [
    "#### Observations"
   ]
  },
  {
   "cell_type": "markdown",
   "metadata": {},
   "source": [
    "The spike in the plot under 100 dollar represents that a lot of passengers who bought the ticket within that range did not survive.\n",
    "When fare is approximately more than 280 dollars, there is no gray shade which means, either everyone passed that fare point survived or maybe there is an outlier that clouds our judgment.\n"
   ]
  },
  {
   "cell_type": "markdown",
   "metadata": {},
   "source": [
    "### Heat Map to find Co-relation with numerial features and target variable\n",
    "\n"
   ]
  },
  {
   "cell_type": "code",
   "execution_count": 23,
   "metadata": {},
   "outputs": [
    {
     "data": {
      "text/plain": [
       "<matplotlib.axes._subplots.AxesSubplot at 0x1dc3032cd30>"
      ]
     },
     "execution_count": 23,
     "metadata": {},
     "output_type": "execute_result"
    },
    {
     "data": {
      "image/png": "[encoded data removed]",
      "text/plain": [
       "<Figure size 648x432 with 2 Axes>"
      ]
     },
     "metadata": {
      "needs_background": "light"
     },
     "output_type": "display_data"
    }
   ],
   "source": [
    "matrix = titanic.corr() \n",
    "fax = plt.subplots(figsize=(9, 6)) \n",
    "sns.heatmap(data=matrix, annot=True)\n",
    "#sns.heatmap(matrix, vmax=.8, square=True, cmap=\"BuPu\");"
   ]
  },
  {
   "cell_type": "markdown",
   "metadata": {},
   "source": [
    "Positive Correlation Features:\n",
    "Fare and Survived: 0.26\n",
    "Negative Correlation Features:\n",
    "Fare and Pclass: -0.6\n",
    "Sex and Survived: -0.55\n",
    "Pclass and Survived: -0.33\n",
    "\n",
    "SibSp and Parch are highly co-related as both indicates family members and its count\n",
    "\n",
    "Fare and Survived are more co-related compared to other predictors\n"
   ]
  },
  {
   "cell_type": "markdown",
   "metadata": {},
   "source": [
    "# 4) Dropping the columns which has no impact from titanic\n",
    "Form the above analysis , the no impact Columns to be dropped :'PassengerId' , 'Name' , 'Cabin' , 'Ticket' ,'Embarked'"
   ]
  },
  {
   "cell_type": "code",
   "execution_count": 24,
   "metadata": {},
   "outputs": [],
   "source": [
    "titanic=titanic.drop(['PassengerId' , 'Name' , 'Cabin' , 'Ticket','Embarked'],axis=1)\n"
   ]
  },
  {
   "cell_type": "markdown",
   "metadata": {},
   "source": [
    "# 5)Data Cleaning and Scaling "
   ]
  },
  {
   "cell_type": "markdown",
   "metadata": {},
   "source": [
    "## Weigth of Evidence (WoE)"
   ]
  },
  {
   "cell_type": "markdown",
   "metadata": {},
   "source": [
    "The advantages of WOE transformation are\n",
    "\n",
    "Handles missing values\n",
    "\n",
    "Handles outliers\n",
    "\n",
    "The transformation is based on logarithmic value of distributions. This is aligned with the logistic regression output function\n",
    "\n",
    "No need for dummy variables\n",
    "\n",
    "By using proper binning technique, it can establish monotonic relationship (either increase or decrease) between the independent and dependent variable"
   ]
  },
  {
   "cell_type": "code",
   "execution_count": 25,
   "metadata": {},
   "outputs": [],
   "source": [
    "# Calculate information value\n",
    "def calc_iv(df, feature, target, pr=0):\n",
    "    \"\"\"\n",
    "    Set pr=True to enable printing of output.\n",
    "    \n",
    "    Output: \n",
    "      * iv: float,\n",
    "      * data: pandas.DataFrame\n",
    "    \"\"\"\n",
    "\n",
    "    lst = []\n",
    "\n",
    "    df[feature] = df[feature].fillna(\"NULL\")\n",
    "\n",
    "    for i in range(df[feature].nunique()):\n",
    "        val = list(df[feature].unique())[i]\n",
    "        lst.append([feature,                                                        # Variable\n",
    "                    val,                                                            # Value\n",
    "                    df[df[feature] == val].count()[feature],                        # All\n",
    "                    df[(df[feature] == val) & (df[target] == 0)].count()[feature],  # Good \n",
    "                    df[(df[feature] == val) & (df[target] == 1)].count()[feature]]) # Bad \n",
    "\n",
    "    data = pd.DataFrame(lst, columns=['Variable', 'Value', 'All', 'Good', 'Bad'])\n",
    "\n",
    "    data['Share'] = data['All'] / data['All'].sum()\n",
    "    data['Bad Rate'] = data['Bad'] / data['All']\n",
    "    data['Distribution Good'] = (data['All'] - data['Bad']) / (data['All'].sum() - data['Bad'].sum())\n",
    "    data['Distribution Bad'] = data['Bad'] / data['Bad'].sum()\n",
    "    data['WoE'] = np.log(data['Distribution Bad'] / data['Distribution Good'])\n",
    "\n",
    "    data = data.replace({'WoE': {np.inf: 0, -np.inf: 0}})\n",
    "\n",
    "    data['IV'] = data['WoE'] * (data['Distribution Bad'] - data['Distribution Good'])\n",
    "\n",
    "    data = data.sort_values(by=['Variable', 'Value'], ascending=[True, True])\n",
    "    data.index = range(len(data.index))\n",
    "\n",
    "    if pr == 1:\n",
    "        print(data)\n",
    "        print('IV = ', data['IV'].sum())\n",
    "\n",
    "\n",
    "    iv = data['IV'].sum()\n",
    "    # print(iv)\n",
    "\n",
    "    return iv, data"
   ]
  },
  {
   "cell_type": "markdown",
   "metadata": {},
   "source": [
    "# Calculating WoE -Categorical Variable"
   ]
  },
  {
   "cell_type": "code",
   "execution_count": 26,
   "metadata": {},
   "outputs": [],
   "source": [
    "iv_Sex, data_Sex = calc_iv(titanic, 'Sex', 'Survived')\n",
    "iv_Pclass, data_Pclass = calc_iv(titanic, 'Pclass', 'Survived')\n",
    "\n"
   ]
  },
  {
   "cell_type": "markdown",
   "metadata": {},
   "source": [
    "#  Binning of Continious Variables & Calculating WoE "
   ]
  },
  {
   "cell_type": "code",
   "execution_count": 27,
   "metadata": {},
   "outputs": [
    {
     "name": "stdout",
     "output_type": "stream",
     "text": [
      "    Variable  Value  All  Good  Bad     Share  Bad Rate  Distribution Good  \\\n",
      "0  SibSp_bin      1  817   495  322  0.916947  0.394125           0.901639   \n",
      "1  SibSp_bin      2   44    27   17  0.049383  0.386364           0.049180   \n",
      "2  SibSp_bin      3   30    27    3  0.033670  0.100000           0.049180   \n",
      "\n",
      "   Distribution Bad       WoE        IV  \n",
      "0          0.941520  0.043281  0.001726  \n",
      "1          0.049708  0.010664  0.000006  \n",
      "2          0.008772 -1.723937  0.069662  \n"
     ]
    }
   ],
   "source": [
    "#binning SibSp\n",
    "def func(x):\n",
    "    if  0 <= x <= 1:\n",
    "        return 1\n",
    "    elif 2 <= x <= 3 :\n",
    "        return 2\n",
    "    elif 4 <= x <=8 :\n",
    "        return 3\n",
    "    \n",
    "titanic['SibSp_bin'] = titanic['SibSp'].apply(func)\n",
    "iv_SibSp, data_SibSp = calc_iv(titanic, 'SibSp_bin', 'Survived')\n",
    "print(data_SibSp)"
   ]
  },
  {
   "cell_type": "code",
   "execution_count": 28,
   "metadata": {},
   "outputs": [
    {
     "name": "stdout",
     "output_type": "stream",
     "text": [
      "   Variable  Value  All  Good  Bad     Share  Bad Rate  Distribution Good  \\\n",
      "0  Fare_bin      1  731   498  233  0.820426  0.318741           0.907104   \n",
      "1  Fare_bin      2  151    49  102  0.169473  0.675497           0.089253   \n",
      "2  Fare_bin      3    9     2    7  0.010101  0.777778           0.003643   \n",
      "\n",
      "   Distribution Bad       WoE        IV  \n",
      "0          0.681287 -0.286274  0.064646  \n",
      "1          0.298246  1.206440  0.252137  \n",
      "2          0.020468  1.726051  0.029041  \n"
     ]
    }
   ],
   "source": [
    "#binning Fare\n",
    "def func(x):\n",
    "    if x <= 50:\n",
    "        return 1\n",
    "    elif  x <= 250 :\n",
    "        return 2\n",
    "    elif x <=1000 :\n",
    "        return 3\n",
    "    else:\n",
    "        return 'NULL'\n",
    "\n",
    "titanic['Fare_bin'] = titanic['Fare'].apply(func)\n",
    "\n",
    "iv_Fare, data_Fare = calc_iv(titanic, 'Fare_bin', 'Survived')\n",
    "print(data_Fare)  \n",
    "\n"
   ]
  },
  {
   "cell_type": "code",
   "execution_count": 29,
   "metadata": {},
   "outputs": [
    {
     "name": "stdout",
     "output_type": "stream",
     "text": [
      "  Variable  Value  All  Good  Bad     Share  Bad Rate  Distribution Good  \\\n",
      "0  Age_bin      1   44    13   31  0.049383  0.704545           0.023679   \n",
      "1  Age_bin      2   10     5    5  0.011223  0.500000           0.009107   \n",
      "2  Age_bin      3   29    16   13  0.032548  0.448276           0.029144   \n",
      "3  Age_bin      4  808   515  293  0.906846  0.362624           0.938069   \n",
      "\n",
      "   Distribution Bad       WoE        IV  \n",
      "0          0.090643  1.342326  0.089887  \n",
      "1          0.014620  0.473288  0.002609  \n",
      "2          0.038012  0.265648  0.002356  \n",
      "3          0.856725 -0.090707  0.007378  \n"
     ]
    }
   ],
   "source": [
    "#binning Age\n",
    "def func(x):\n",
    "    if x <= 5:\n",
    "        return 1\n",
    "    elif  x <= 8 :\n",
    "        return 2\n",
    "    elif x <=15 :\n",
    "        return 3\n",
    "    elif x <=80 :\n",
    "        return 4\n",
    "    else:\n",
    "        return 5\n",
    "\n",
    "titanic['Age_bin'] = titanic['Age'].apply(func)\n",
    "\n",
    "iv_Age, data_Age = calc_iv(titanic, 'Age_bin', 'Survived')\n",
    "print(data_Age)  \n",
    "\n"
   ]
  },
  {
   "cell_type": "code",
   "execution_count": 30,
   "metadata": {},
   "outputs": [
    {
     "name": "stdout",
     "output_type": "stream",
     "text": [
      "    Variable  Value  All  Good  Bad     Share  Bad Rate  Distribution Good  \\\n",
      "0  Parch_bin      1  881   540  341  0.988777   0.38706           0.983607   \n",
      "1  Parch_bin      2   10     9    1  0.011223   0.10000           0.016393   \n",
      "\n",
      "   Distribution Bad       WoE        IV  \n",
      "0          0.997076  0.013601  0.000183  \n",
      "1          0.002924 -1.723937  0.023221  \n"
     ]
    }
   ],
   "source": [
    "#binning Parch\n",
    "def func(x):\n",
    "    if x <= 3:\n",
    "        return 1\n",
    "    elif  x <= 6 :\n",
    "        return 2\n",
    "    else:\n",
    "        return 3\n",
    "\n",
    "titanic['Parch_bin'] = titanic['Parch'].apply(func)\n",
    "\n",
    "iv_Parch, data_Parch = calc_iv(titanic, 'Parch_bin', 'Survived')\n",
    "print(data_Parch)  \n",
    "\n"
   ]
  },
  {
   "cell_type": "markdown",
   "metadata": {},
   "source": [
    "# Information Value (IV)"
   ]
  },
  {
   "cell_type": "code",
   "execution_count": 31,
   "metadata": {
    "scrolled": true
   },
   "outputs": [
    {
     "data": {
      "text/html": [
       "<div>\n",
       "<style scoped>\n",
       "    .dataframe tbody tr th:only-of-type {\n",
       "        vertical-align: middle;\n",
       "    }\n",
       "\n",
       "    .dataframe tbody tr th {\n",
       "        vertical-align: top;\n",
       "    }\n",
       "\n",
       "    .dataframe thead th {\n",
       "        text-align: right;\n",
       "    }\n",
       "</style>\n",
       "<table border=\"1\" class=\"dataframe\">\n",
       "  <thead>\n",
       "    <tr style=\"text-align: right;\">\n",
       "      <th></th>\n",
       "      <th>Predictor</th>\n",
       "      <th>IV_Values</th>\n",
       "    </tr>\n",
       "  </thead>\n",
       "  <tbody>\n",
       "    <tr>\n",
       "      <th>0</th>\n",
       "      <td>Pclass</td>\n",
       "      <td>0.500950</td>\n",
       "    </tr>\n",
       "    <tr>\n",
       "      <th>1</th>\n",
       "      <td>Sex</td>\n",
       "      <td>1.341681</td>\n",
       "    </tr>\n",
       "    <tr>\n",
       "      <th>2</th>\n",
       "      <td>Age</td>\n",
       "      <td>0.102230</td>\n",
       "    </tr>\n",
       "    <tr>\n",
       "      <th>3</th>\n",
       "      <td>SibSp</td>\n",
       "      <td>0.071393</td>\n",
       "    </tr>\n",
       "    <tr>\n",
       "      <th>4</th>\n",
       "      <td>Parch</td>\n",
       "      <td>0.023404</td>\n",
       "    </tr>\n",
       "    <tr>\n",
       "      <th>5</th>\n",
       "      <td>Fare</td>\n",
       "      <td>0.345823</td>\n",
       "    </tr>\n",
       "  </tbody>\n",
       "</table>\n",
       "</div>"
      ],
      "text/plain": [
       "  Predictor  IV_Values\n",
       "0    Pclass   0.500950\n",
       "1       Sex   1.341681\n",
       "2       Age   0.102230\n",
       "3     SibSp   0.071393\n",
       "4     Parch   0.023404\n",
       "5      Fare   0.345823"
      ]
     },
     "execution_count": 31,
     "metadata": {},
     "output_type": "execute_result"
    }
   ],
   "source": [
    "IV_values = [('Pclass',iv_Pclass),\n",
    "             ('Sex',iv_Sex),\n",
    "             ('Age',iv_Age),\n",
    "             ('SibSp',iv_SibSp),\n",
    "             ('Parch',iv_Parch),       \n",
    "            ('Fare',iv_Fare),\n",
    "             ]\n",
    "\n",
    "\n",
    "IV_Values = pd.DataFrame(IV_values) \n",
    "\n",
    "\n",
    "IV_Values = pd.DataFrame(IV_values, columns = ['Predictor' , 'IV_Values'])\n",
    "IV_Values"
   ]
  },
  {
   "cell_type": "markdown",
   "metadata": {},
   "source": [
    "#### Observations"
   ]
  },
  {
   "attachments": {
    "IV_values.PNG": {
     "image/png": "[encoded data removed]"
    }
   },
   "cell_type": "markdown",
   "metadata": {},
   "source": [
    "![IV_values.PNG](attachment:IV_values.PNG)\n",
    "We can say from above IV values that \n",
    "                        \n",
    "    Pclass\t  0.50095    --> Strong Predictor \n",
    "    Sex\t      1.341681   --> very Strong Predictor\n",
    "    Age\t      0.102244    --> Medium Predictor\n",
    "    SibSp\t  0.071393   --> uesless for Prediction\n",
    "    Parch\t  0.023404   --> Weak Predictor\n",
    "    Fare\t  0.345823   --> Strong Predictor \n",
    "    \n"
   ]
  },
  {
   "cell_type": "markdown",
   "metadata": {},
   "source": [
    "# Mapping WoE values to the predictors "
   ]
  },
  {
   "cell_type": "code",
   "execution_count": 32,
   "metadata": {},
   "outputs": [],
   "source": [
    "Embarked_map = data_Sex.set_index('Value')['WoE'].to_dict()\n",
    "titanic['Sex_WoE']=titanic['Sex'].map(Embarked_map)\n",
    "\n",
    "Embarked_map = data_Pclass.set_index('Value')['WoE'].to_dict()\n",
    "titanic['Pclass_WoE']=titanic['Pclass'].map(Embarked_map)\n",
    "\n",
    "Embarked_map = data_Age.set_index('Value')['WoE'].to_dict()\n",
    "titanic['Age_WoE']=titanic['Age_bin'].map(Embarked_map)\n",
    "\n",
    "Embarked_map = data_SibSp.set_index('Value')['WoE'].to_dict()\n",
    "titanic['SibSp_WoE']=titanic['SibSp_bin'].map(Embarked_map)\n",
    "\n",
    "Embarked_map = data_Parch.set_index('Value')['WoE'].to_dict()\n",
    "titanic['Parch_WoE']=titanic['Parch_bin'].map(Embarked_map)\n",
    "\n",
    "Embarked_map = data_Fare.set_index('Value')['WoE'].to_dict()\n",
    "titanic['Fare_WoE']=titanic['Fare_bin'].map(Embarked_map)\n",
    "\n"
   ]
  },
  {
   "cell_type": "markdown",
   "metadata": {},
   "source": [
    "# 6)Creating a new dataset titanic_woe from the Weight of Evidence values"
   ]
  },
  {
   "cell_type": "code",
   "execution_count": 33,
   "metadata": {},
   "outputs": [],
   "source": [
    "titanic_woe = titanic[['Survived','Pclass_WoE','Sex_WoE','Age_WoE','SibSp_WoE','Parch_WoE','Fare_WoE']]"
   ]
  },
  {
   "cell_type": "code",
   "execution_count": 34,
   "metadata": {},
   "outputs": [
    {
     "name": "stdout",
     "output_type": "stream",
     "text": [
      "   Survived  Pclass_WoE   Sex_WoE   Age_WoE  SibSp_WoE  Parch_WoE  Fare_WoE\n",
      "0         0   -0.666483 -0.983833 -0.090707   0.043281   0.013601 -0.286274\n",
      "1         1    1.003916  1.529877 -0.090707   0.043281   0.013601  1.206440\n",
      "2         1   -0.666483  1.529877 -0.090707   0.043281   0.013601 -0.286274\n",
      "3         1    1.003916  1.529877 -0.090707   0.043281   0.013601  1.206440\n",
      "4         0   -0.666483 -0.983833 -0.090707   0.043281   0.013601 -0.286274\n"
     ]
    }
   ],
   "source": [
    "print(titanic_woe.head())\n"
   ]
  },
  {
   "cell_type": "code",
   "execution_count": 35,
   "metadata": {},
   "outputs": [
    {
     "name": "stdout",
     "output_type": "stream",
     "text": [
      "Survived      0\n",
      "Pclass_WoE    0\n",
      "Sex_WoE       0\n",
      "Age_WoE       0\n",
      "SibSp_WoE     0\n",
      "Parch_WoE     0\n",
      "Fare_WoE      0\n",
      "dtype: int64\n"
     ]
    }
   ],
   "source": [
    "print(titanic_woe.isnull().sum() )"
   ]
  },
  {
   "cell_type": "markdown",
   "metadata": {},
   "source": [
    "# (7)Preparing the data for training the model"
   ]
  },
  {
   "cell_type": "markdown",
   "metadata": {},
   "source": [
    "### (a)Separating dependent and independent variables¶\n",
    "\n",
    " "
   ]
  },
  {
   "cell_type": "markdown",
   "metadata": {},
   "source": [
    "    X = Remaining other features\n",
    "    Y = Survived "
   ]
  },
  {
   "cell_type": "code",
   "execution_count": 36,
   "metadata": {},
   "outputs": [],
   "source": [
    "\n",
    "predictors=titanic_woe.drop(\"Survived\", axis=1)\n",
    "response=titanic_woe['Survived']"
   ]
  },
  {
   "cell_type": "markdown",
   "metadata": {},
   "source": [
    "### (b)Splitting the data into training and testing sets"
   ]
  },
  {
   "cell_type": "markdown",
   "metadata": {},
   "source": [
    "\n",
    "We can use model_selection from Scikit Learn module to split the dataset into train and test datasets."
   ]
  },
  {
   "cell_type": "code",
   "execution_count": 37,
   "metadata": {},
   "outputs": [],
   "source": [
    "\n",
    "from sklearn.model_selection import train_test_split"
   ]
  },
  {
   "cell_type": "code",
   "execution_count": 38,
   "metadata": {},
   "outputs": [],
   "source": [
    "\n",
    "predictors_train, predictors_test, response_train, response_test = train_test_split(predictors, response, test_size = 0.2,\\\n",
    "                                                                                    random_state=30)\n",
    "                                                                                    "
   ]
  },
  {
   "cell_type": "markdown",
   "metadata": {},
   "source": [
    "Within this model selection module, there is a train test split method which helps us in dividing a dataset into training and testing component\n",
    "\n",
    "test size - it talks about what should be the size of the test dataset relative to the total dataset.\n",
    "Supplying 0.20 test_size will create a test dataset which is 20% and training dataset of 80% of total dataset"
   ]
  },
  {
   "cell_type": "code",
   "execution_count": 39,
   "metadata": {},
   "outputs": [
    {
     "name": "stdout",
     "output_type": "stream",
     "text": [
      "(712, 6)\n",
      "(712,)\n",
      "(179, 6)\n",
      "(179,)\n"
     ]
    }
   ],
   "source": [
    "print(predictors_train.shape)\n",
    "print(response_train.shape)\n",
    "print(predictors_test.shape)\n",
    "print(response_test.shape)\n",
    "\n"
   ]
  },
  {
   "cell_type": "markdown",
   "metadata": {},
   "source": [
    "# (8)Preparing the training data for Logistic Regression\n",
    "\n"
   ]
  },
  {
   "cell_type": "markdown",
   "metadata": {},
   "source": [
    "### (a)Add the constant term to the training data"
   ]
  },
  {
   "cell_type": "code",
   "execution_count": 40,
   "metadata": {},
   "outputs": [
    {
     "name": "stderr",
     "output_type": "stream",
     "text": [
      "C:\\Users\\Keerthi\\Anaconda3\\lib\\site-packages\\numpy\\core\\fromnumeric.py:2223: FutureWarning: Method .ptp is deprecated and will be removed in a future version. Use numpy.ptp instead.\n",
      "  return ptp(axis=axis, out=out, **kwargs)\n"
     ]
    }
   ],
   "source": [
    "predictors_train = sm.add_constant(predictors_train)\n",
    "predictors_test=sm.add_constant(predictors_test)"
   ]
  },
  {
   "cell_type": "code",
   "execution_count": 41,
   "metadata": {
    "scrolled": true
   },
   "outputs": [
    {
     "data": {
      "text/plain": [
       "Index(['const', 'Pclass_WoE', 'Sex_WoE', 'Age_WoE', 'SibSp_WoE', 'Parch_WoE',\n",
       "       'Fare_WoE'],\n",
       "      dtype='object')"
      ]
     },
     "execution_count": 41,
     "metadata": {},
     "output_type": "execute_result"
    }
   ],
   "source": [
    "predictors_test.columns"
   ]
  },
  {
   "cell_type": "markdown",
   "metadata": {},
   "source": [
    "### (b) Apply GLM method & Fit the model"
   ]
  },
  {
   "cell_type": "markdown",
   "metadata": {},
   "source": [
    "### BACKWARD selection regression"
   ]
  },
  {
   "cell_type": "markdown",
   "metadata": {},
   "source": [
    "### Building the model on training dataset with all predictors"
   ]
  },
  {
   "cell_type": "code",
   "execution_count": 42,
   "metadata": {},
   "outputs": [],
   "source": [
    "logit = sm.GLM(response_train, predictors_train, family=sm.families.Binomial())\n",
    "result = logit.fit()\n"
   ]
  },
  {
   "cell_type": "markdown",
   "metadata": {},
   "source": [
    "### Print the Model Summary"
   ]
  },
  {
   "cell_type": "markdown",
   "metadata": {},
   "source": [
    "print model summary"
   ]
  },
  {
   "cell_type": "code",
   "execution_count": 43,
   "metadata": {},
   "outputs": [
    {
     "name": "stdout",
     "output_type": "stream",
     "text": [
      "                 Generalized Linear Model Regression Results                  \n",
      "==============================================================================\n",
      "Dep. Variable:               Survived   No. Observations:                  712\n",
      "Model:                            GLM   Df Residuals:                      705\n",
      "Model Family:                Binomial   Df Model:                            6\n",
      "Link Function:                  logit   Scale:                          1.0000\n",
      "Method:                          IRLS   Log-Likelihood:                -306.54\n",
      "Date:                Thu, 16 May 2019   Deviance:                       613.08\n",
      "Time:                        21:44:43   Pearson chi2:                     829.\n",
      "No. Iterations:                     5   Covariance Type:             nonrobust\n",
      "==============================================================================\n",
      "                 coef    std err          z      P>|z|      [0.025      0.975]\n",
      "------------------------------------------------------------------------------\n",
      "const         -0.4721      0.102     -4.627      0.000      -0.672      -0.272\n",
      "Pclass_WoE     0.9061      0.173      5.223      0.000       0.566       1.246\n",
      "Sex_WoE        1.0820      0.086     12.583      0.000       0.913       1.251\n",
      "Age_WoE        1.6560      0.351      4.715      0.000       0.968       2.344\n",
      "SibSp_WoE      1.3427      0.445      3.017      0.003       0.470       2.215\n",
      "Parch_WoE      1.1336      0.634      1.787      0.074      -0.110       2.377\n",
      "Fare_WoE       0.4299      0.208      2.067      0.039       0.022       0.837\n",
      "==============================================================================\n"
     ]
    }
   ],
   "source": [
    "print(result.summary())\n"
   ]
  },
  {
   "cell_type": "code",
   "execution_count": 44,
   "metadata": {},
   "outputs": [
    {
     "name": "stdout",
     "output_type": "stream",
     "text": [
      "               Results: Generalized linear model\n",
      "===============================================================\n",
      "Model:              GLM              AIC:            627.0823  \n",
      "Link Function:      logit            BIC:            -4017.4126\n",
      "Dependent Variable: Survived         Log-Likelihood: -306.54   \n",
      "Date:               2019-05-16 21:44 LL-Null:        -473.03   \n",
      "No. Observations:   712              Deviance:       613.08    \n",
      "Df Model:           6                Pearson chi2:   829.      \n",
      "Df Residuals:       705              Scale:          1.0000    \n",
      "Method:             IRLS                                       \n",
      "----------------------------------------------------------------\n",
      "             Coef.   Std.Err.     z     P>|z|    [0.025   0.975]\n",
      "----------------------------------------------------------------\n",
      "const       -0.4721    0.1020  -4.6265  0.0000  -0.6721  -0.2721\n",
      "Pclass_WoE   0.9061    0.1735   5.2232  0.0000   0.5661   1.2462\n",
      "Sex_WoE      1.0820    0.0860  12.5826  0.0000   0.9134   1.2505\n",
      "Age_WoE      1.6560    0.3512   4.7154  0.0000   0.9677   2.3443\n",
      "SibSp_WoE    1.3427    0.4451   3.0167  0.0026   0.4703   2.2152\n",
      "Parch_WoE    1.1336    0.6343   1.7870  0.0739  -0.1097   2.3769\n",
      "Fare_WoE     0.4299    0.2079   2.0672  0.0387   0.0223   0.8374\n",
      "===============================================================\n",
      "\n"
     ]
    }
   ],
   "source": [
    "print(result.summary2())\n"
   ]
  },
  {
   "cell_type": "code",
   "execution_count": 45,
   "metadata": {},
   "outputs": [],
   "source": [
    "#Deviance\n",
    "modDev=result.deviance\n",
    "#Akaike Information Criterion (AIC)\n",
    "modAIC=result.aic"
   ]
  },
  {
   "cell_type": "markdown",
   "metadata": {},
   "source": [
    "### Observations"
   ]
  },
  {
   "cell_type": "markdown",
   "metadata": {},
   "source": [
    "Non-Significant Predictors :\n",
    "\n",
    "    We can observe that 'Parch_WoE' (P-value=7.4%) is not significant at confindence level of 95% , as they are having P-values more than Significant level of 5%\n",
    "    The Probability boundaries include zero for predictor Parch_WoE \n",
    "\n",
    "    Hence we can conclude that Parch_WoE doesn't play a significant role in predict Survival and can be dropped.\n",
    "\n",
    "\n"
   ]
  },
  {
   "cell_type": "markdown",
   "metadata": {},
   "source": [
    "## Removing Predictors which are not significant "
   ]
  },
  {
   "cell_type": "markdown",
   "metadata": {},
   "source": [
    "##### Let's now test the model by dropping the Parch_WoE, using other predictors in data to predict Surival."
   ]
  },
  {
   "cell_type": "code",
   "execution_count": 46,
   "metadata": {},
   "outputs": [],
   "source": [
    "predictors_train = predictors_train.drop(['Parch_WoE'], axis=1)"
   ]
  },
  {
   "cell_type": "code",
   "execution_count": 47,
   "metadata": {},
   "outputs": [
    {
     "name": "stdout",
     "output_type": "stream",
     "text": [
      "               Results: Generalized linear model\n",
      "===============================================================\n",
      "Model:              GLM              AIC:            629.6060  \n",
      "Link Function:      logit            BIC:            -4019.4570\n",
      "Dependent Variable: Survived         Log-Likelihood: -308.80   \n",
      "Date:               2019-05-16 21:44 LL-Null:        -473.03   \n",
      "No. Observations:   712              Deviance:       617.61    \n",
      "Df Model:           5                Pearson chi2:   830.      \n",
      "Df Residuals:       706              Scale:          1.0000    \n",
      "Method:             IRLS                                       \n",
      "----------------------------------------------------------------\n",
      "             Coef.   Std.Err.     z     P>|z|    [0.025   0.975]\n",
      "----------------------------------------------------------------\n",
      "const       -0.4848    0.1015  -4.7749  0.0000  -0.6838  -0.2858\n",
      "Pclass_WoE   0.9367    0.1729   5.4169  0.0000   0.5978   1.2756\n",
      "Sex_WoE      1.0670    0.0852  12.5256  0.0000   0.9001   1.2340\n",
      "Age_WoE      1.6770    0.3509   4.7785  0.0000   0.9892   2.3649\n",
      "SibSp_WoE    1.3190    0.4449   2.9649  0.0030   0.4471   2.1910\n",
      "Fare_WoE     0.4055    0.2061   1.9675  0.0491   0.0016   0.8094\n",
      "===============================================================\n",
      "\n"
     ]
    }
   ],
   "source": [
    "\n",
    "logit = sm.GLM(response_train, predictors_train, family=sm.families.Binomial())\n",
    "result_1 = logit.fit()\n",
    "print(result_1.summary2())"
   ]
  },
  {
   "cell_type": "code",
   "execution_count": 48,
   "metadata": {},
   "outputs": [
    {
     "name": "stdout",
     "output_type": "stream",
     "text": [
      "Optimization terminated successfully.\n",
      "         Current function value: 0.433712\n",
      "         Iterations 6\n",
      "################  INITIAL MODEL ####################\n",
      "Deviance is            --> 613.0822994396209\n",
      "AIC is                 --> 627.0822994396208\n",
      "################  FINAL MODEL  ####################\n",
      "Deviance is            --> 617.6060165988678\n",
      "AIC is                 --> 629.6060165988678\n",
      "Pesudo-R2 score is     --> 0.34717882794533717\n"
     ]
    }
   ],
   "source": [
    "#Deviance\n",
    "mod_Dev=result_1.deviance\n",
    "#Akaike Information Criterion (AIC)\n",
    "mod_AIC=result_1.aic\n",
    "#Pesudo-R2\n",
    "R2=sm.Logit(response_train, predictors_train).fit().prsquared\n",
    "print('################  INITIAL MODEL ####################')\n",
    "print('Deviance is            -->',modDev)\n",
    "print('AIC is                 -->',modAIC)\n",
    "\n",
    "print('################  FINAL MODEL  ####################')\n",
    "print('Deviance is            -->',mod_Dev)\n",
    "print('AIC is                 -->',mod_AIC)\n",
    "print('Pesudo-R2 score is     -->',R2)"
   ]
  },
  {
   "cell_type": "markdown",
   "metadata": {},
   "source": [
    "### Observations"
   ]
  },
  {
   "cell_type": "markdown",
   "metadata": {},
   "source": [
    "We see that  AIC criterion, which measures the goodness of fit has decreased than earlier as we were being penalized for adding non-useful predictors in our model.\n",
    "Deviance is lower than the intial model.\n",
    "\n",
    "        "
   ]
  },
  {
   "cell_type": "markdown",
   "metadata": {},
   "source": [
    "### Inference from model summary."
   ]
  },
  {
   "cell_type": "markdown",
   "metadata": {},
   "source": [
    "                                y=β0+β1x1+β2x2+...+βnxn\n",
    "    The β coefficeints represents the lod odds of beign survied from titanic ship.\n",
    "    \n",
    "                   Predictors    Coefficeints\n",
    "                   \n",
    "                   Pclass_WoE    0.9367 \n",
    "                   Sex_WoE       1.0670   \n",
    "                   Age_WoE       1.6770   \n",
    "                   SibSp_WoE     1.3190  \n",
    "                   Fare_WoE     0.4055\n",
    "                  \n",
    "\n",
    "                 \n",
    "   \n",
    "    • Pclass_WoE :\n",
    "          o\t significance : Significant  as the p-value is <0.5 at confidence level of 95% \n",
    "          o\t sign : +ve ,which means that with increase of WoE the chance of survival increases. \n",
    "          o\t Intuition with sign: 1st class have higher WoE and implies that the model suggest higher survival rates compared to other class\n",
    "          o  Crosschecking with data : this is evident in  train sample and the model reflects the same.1St class rich guys are saved more compared to 2nd and 3rd class passengers!  \n",
    "\n",
    "     • Sex_WoE :\n",
    "          o\t significance : Significant  as the p-value is <0.5 at confidence level of 95% \n",
    "          o\t sign : +ve ,which means that with increase of WoE the chance of survival increases. \n",
    "          o\t Intuition with sign: Female have higher WoE and implies that the model suggest higher survival rates compared to Males\n",
    "          o  Crosschecking with data : this is evident in  train sample and the model reflects the same.Not be the discriminant . But it is ! Females are more saved from disaster. \n",
    "     \n",
    "     • Age_WoE :\n",
    "          o\t significance : Significant  as the p-value is <0.5 at confidence level of 95% \n",
    "          o\t sign : +ve ,which means that with increase of WoE the chance of survival increases. \n",
    "          o\t Intuition with sign: Age group of (0-5) have higher WoE and implies that the model suggest higher survival rates compared to other Age groups.\n",
    "          o  Crosschecking with data : this is evident in  train sample and the model reflects the same. Childrens are saved than people lived life !! \n",
    "     \n",
    "     • SibSp_WoE :\n",
    "          o\t significance : Significant  as the p-value is <0.5 at confidence level of 95% \n",
    "          o\t sign : +ve ,which means that with increase of WoE the chance of survival increases. \n",
    "          o\t Intuition with sign: The passenger who boarded the ship with no siblings / spouses have higher WoE and implies that the model suggest higher survival rates compared to others. \n",
    "          o  Crosschecking with data : this is evident in  train sample and the model reflects the same. Safe to be alone !!        \n",
    "     • Fare_WoE :\n",
    "          o\t significance : Significant  as the p-value is <0.5 at confidence level of 95% \n",
    "          o\t sign : +ve ,which means that with increase of WoE the chance of survival increases. \n",
    "          o\t Intuition with sign: The passenger who boarded the ship with high fare have higher WoE and implies that the model suggest higher survival rates compared to others. \n",
    "          o  Crosschecking with data : this is evident in  train sample and the model reflects the same. Rich guys  !! \n",
    "          \n",
    "\n",
    "          "
   ]
  },
  {
   "cell_type": "code",
   "execution_count": 49,
   "metadata": {},
   "outputs": [
    {
     "name": "stdout",
     "output_type": "stream",
     "text": [
      "const         0.615801\n",
      "Pclass_WoE    2.551429\n",
      "Sex_WoE       2.906745\n",
      "Age_WoE       5.349626\n",
      "SibSp_WoE     3.739857\n",
      "Fare_WoE      1.500048\n",
      "dtype: float64\n"
     ]
    }
   ],
   "source": [
    "#Exponential of Coefficients -- odds\n",
    "np.exp(result_1.params)\n",
    "print(np.exp(result_1.params))"
   ]
  },
  {
   "cell_type": "code",
   "execution_count": 50,
   "metadata": {},
   "outputs": [
    {
     "name": "stdout",
     "output_type": "stream",
     "text": [
      "const        -0.484832\n",
      "Pclass_WoE    0.936654\n",
      "Sex_WoE       1.067034\n",
      "Age_WoE       1.677027\n",
      "SibSp_WoE     1.319047\n",
      "Fare_WoE      0.405497\n",
      "dtype: float64\n"
     ]
    }
   ],
   "source": [
    "#Coefficients - Log of odds\n",
    "result_1.params\n",
    "print(result_1.params)"
   ]
  },
  {
   "cell_type": "markdown",
   "metadata": {},
   "source": [
    "## Using SCIKIT Learn module to fit the model on significant predictors"
   ]
  },
  {
   "cell_type": "code",
   "execution_count": 51,
   "metadata": {},
   "outputs": [
    {
     "name": "stdout",
     "output_type": "stream",
     "text": [
      "[(-0.484829090227068, 'const'), (0.9366730179073914, 'Pclass_WoE'), (1.0670360554605751, 'Sex_WoE'), (1.6772424789926175, 'Age_WoE'), (1.318830767901474, 'SibSp_WoE'), (0.40551179476561927, 'Fare_WoE')]\n"
     ]
    },
    {
     "name": "stderr",
     "output_type": "stream",
     "text": [
      "C:\\Users\\Keerthi\\Anaconda3\\lib\\site-packages\\sklearn\\linear_model\\logistic.py:433: FutureWarning: Default solver will be changed to 'lbfgs' in 0.22. Specify a solver to silence this warning.\n",
      "  FutureWarning)\n"
     ]
    }
   ],
   "source": [
    "from sklearn.linear_model import LogisticRegression\n",
    "logit_sk  = LogisticRegression(fit_intercept = False, C = 1e9)\n",
    "result_sk=logit_sk.fit(predictors_train, response_train) \n",
    "print(list(zip(result_sk.coef_[0], predictors_train)))\n"
   ]
  },
  {
   "cell_type": "markdown",
   "metadata": {},
   "source": [
    "# 9) Validation of the Model"
   ]
  },
  {
   "cell_type": "markdown",
   "metadata": {},
   "source": [
    "## (a)Preparing the test data for test the Prediction"
   ]
  },
  {
   "cell_type": "markdown",
   "metadata": {},
   "source": [
    "### (i)Add the constant term to the test data\n"
   ]
  },
  {
   "cell_type": "code",
   "execution_count": 52,
   "metadata": {},
   "outputs": [
    {
     "name": "stderr",
     "output_type": "stream",
     "text": [
      "C:\\Users\\Keerthi\\Anaconda3\\lib\\site-packages\\numpy\\core\\fromnumeric.py:2223: FutureWarning: Method .ptp is deprecated and will be removed in a future version. Use numpy.ptp instead.\n",
      "  return ptp(axis=axis, out=out, **kwargs)\n"
     ]
    }
   ],
   "source": [
    "predictors_test = sm.add_constant(predictors_test)\n"
   ]
  },
  {
   "cell_type": "markdown",
   "metadata": {},
   "source": [
    "### (ii)Dropping the predictors which proved to not significant in predicting the Survival rate in Test dataset."
   ]
  },
  {
   "cell_type": "code",
   "execution_count": 53,
   "metadata": {},
   "outputs": [],
   "source": [
    "predictors_test = predictors_test.drop(['Parch_WoE'], axis=1)\n"
   ]
  },
  {
   "cell_type": "markdown",
   "metadata": {},
   "source": [
    "## (b) Predicting the Survival in Test dataset"
   ]
  },
  {
   "cell_type": "markdown",
   "metadata": {},
   "source": [
    "#### i)Model Evaluation (Actual Vs Predicted) on test sample -STATS Model "
   ]
  },
  {
   "cell_type": "code",
   "execution_count": 54,
   "metadata": {},
   "outputs": [
    {
     "name": "stdout",
     "output_type": "stream",
     "text": [
      "Total predicted Survivers in test dataset--> 68.08145232543359\n"
     ]
    }
   ],
   "source": [
    "pred_survival = result_1.predict(predictors_test)\n",
    "print('Total predicted Survivers in test dataset-->',pred_survival.sum())"
   ]
  },
  {
   "cell_type": "code",
   "execution_count": 82,
   "metadata": {},
   "outputs": [
    {
     "name": "stdout",
     "output_type": "stream",
     "text": [
      "Total predicted Survivers in test dataset--> 271.0000000000764\n"
     ]
    },
    {
     "data": {
      "text/plain": [
       "259"
      ]
     },
     "execution_count": 82,
     "metadata": {},
     "output_type": "execute_result"
    }
   ],
   "source": [
    "pred_survival_train = result_1.predict(predictors_train)\n",
    "print('Total predicted Survivers in test dataset-->',pred_survival_train.sum())\n",
    "pred_survival_train_Sk = result_sk.predict(predictors_train)\n",
    "pred_survival_train_Sk.sum()"
   ]
  },
  {
   "cell_type": "code",
   "execution_count": 56,
   "metadata": {},
   "outputs": [
    {
     "name": "stdout",
     "output_type": "stream",
     "text": [
      "Actual Total Survivers in test dataset--> 71\n",
      "Actual Total Survivers in train dataset--> 271\n"
     ]
    }
   ],
   "source": [
    "print('Actual Total Survivers in test dataset-->',response_test.sum())\n",
    "print('Actual Total Survivers in train dataset-->',response_train.sum())"
   ]
  },
  {
   "cell_type": "markdown",
   "metadata": {},
   "source": [
    "###### From these numbers it kind of evident that the model is doing great!"
   ]
  },
  {
   "cell_type": "markdown",
   "metadata": {},
   "source": [
    "#### ii)Model Evaluation (Actual Vs Predicted) on test sample -  SCIKIT Learn"
   ]
  },
  {
   "cell_type": "code",
   "execution_count": 57,
   "metadata": {},
   "outputs": [
    {
     "data": {
      "text/plain": [
       "417    0.782089\n",
       "307    0.922877\n",
       "87     0.085490\n",
       "577    0.922877\n",
       "684    0.197130\n",
       "dtype: float64"
      ]
     },
     "execution_count": 57,
     "metadata": {},
     "output_type": "execute_result"
    }
   ],
   "source": [
    "pred_survival_sk = logit_sk.predict(predictors_test)\n",
    "pred_survival[:5]"
   ]
  },
  {
   "cell_type": "markdown",
   "metadata": {},
   "source": [
    "## c) Checking Accuracy Score "
   ]
  },
  {
   "cell_type": "markdown",
   "metadata": {},
   "source": [
    "Ø Checking:\n",
    "\n",
    "    (i)Accuracy score.\n",
    "    (ii)Error rate \n",
    "    (iii)Number of observations predicted Correctly and incorrectly\n",
    "\t\t\t\n",
    "\t\t\t\n",
    "\t\t\t\n",
    "\t\t\t\n"
   ]
  },
  {
   "cell_type": "markdown",
   "metadata": {},
   "source": [
    "#### (i)Accuracy score -Stats Model"
   ]
  },
  {
   "cell_type": "code",
   "execution_count": 58,
   "metadata": {},
   "outputs": [
    {
     "name": "stdout",
     "output_type": "stream",
     "text": [
      "Accuracy score is    --> 0.7877094972067039\n",
      "Error rate is        --> 0.2122905027932961\n"
     ]
    }
   ],
   "source": [
    "import numpy\n",
    "import pandas\n",
    "pred_survival_class = pred_survival.map (lambda x : 1 if x > 0.5 else 0)\n",
    "predicted_accuracy = sum(pred_survival_class == response_test) / len(response_test)\n",
    "print('Accuracy score is    -->',predicted_accuracy)\n",
    "print('Error rate is        -->',1-predicted_accuracy)"
   ]
  },
  {
   "cell_type": "markdown",
   "metadata": {},
   "source": [
    "#### (ii)Accuracy score -SCIKIT learn Model"
   ]
  },
  {
   "cell_type": "code",
   "execution_count": 59,
   "metadata": {},
   "outputs": [
    {
     "name": "stdout",
     "output_type": "stream",
     "text": [
      "Accuracy score                      --> 0.7877094972067039\n",
      "Error rate is                       --> 0.2122905027932961\n",
      "correctly classified observations   --> 141\n",
      "incorrectly classified observations --> 38\n"
     ]
    }
   ],
   "source": [
    "from sklearn.metrics import accuracy_score\n",
    "#Accuracy score\n",
    "acc=accuracy_score(response_test.astype(float), pred_survival_sk)\n",
    "#Calculate Error rate\n",
    "err=1-acc\n",
    "#Calculate number of correctly classified observations.\n",
    "cor=accuracy_score(response_test.astype(float), pred_survival_sk, normalize=False)\n",
    "#Calculate number of incorrectly classified observations.\n",
    "incor=len(response_test) - accuracy_score(response_test, pred_survival_sk, normalize=False)\n",
    "\n",
    "print('Accuracy score                      -->',acc)\n",
    "print('Error rate is                       -->',err)\n",
    "print('correctly classified observations   -->', cor)\n",
    "print('incorrectly classified observations -->', incor)"
   ]
  },
  {
   "cell_type": "markdown",
   "metadata": {},
   "source": [
    "### Observations:"
   ]
  },
  {
   "cell_type": "markdown",
   "metadata": {},
   "source": [
    "The Accuracy score  is almost 80%, which is a good score for a model."
   ]
  },
  {
   "cell_type": "markdown",
   "metadata": {},
   "source": [
    "## Calculate log loss\n"
   ]
  },
  {
   "cell_type": "code",
   "execution_count": 60,
   "metadata": {},
   "outputs": [
    {
     "name": "stdout",
     "output_type": "stream",
     "text": [
      "log_loss value       --> 7.332325679136812\n"
     ]
    }
   ],
   "source": [
    "from sklearn.metrics import log_loss\n",
    "pred_log_loss=log_loss(response_test, pred_survival_sk)\n",
    "print('log_loss value       -->',pred_log_loss)"
   ]
  },
  {
   "cell_type": "markdown",
   "metadata": {},
   "source": [
    "### Observations"
   ]
  },
  {
   "cell_type": "markdown",
   "metadata": {},
   "source": [
    "Log Loss quantifies the accuracy of a classifier by penalising false classifications.The lower the value the more better. We can actually compare this with the log loss score using cut off probability to predict the classes."
   ]
  },
  {
   "cell_type": "markdown",
   "metadata": {},
   "source": [
    "# 10Calculate Confusion Matrix"
   ]
  },
  {
   "cell_type": "code",
   "execution_count": 61,
   "metadata": {},
   "outputs": [],
   "source": [
    "from sklearn.metrics import confusion_matrix\n",
    "import matplotlib.pyplot as plt\n",
    "import seaborn as sns\n",
    "%matplotlib inline"
   ]
  },
  {
   "cell_type": "code",
   "execution_count": 62,
   "metadata": {},
   "outputs": [],
   "source": [
    "confusion = confusion_matrix(response_test, pred_survival_sk)"
   ]
  },
  {
   "cell_type": "code",
   "execution_count": 63,
   "metadata": {},
   "outputs": [
    {
     "data": {
      "text/html": [
       "<div>\n",
       "<style scoped>\n",
       "    .dataframe tbody tr th:only-of-type {\n",
       "        vertical-align: middle;\n",
       "    }\n",
       "\n",
       "    .dataframe tbody tr th {\n",
       "        vertical-align: top;\n",
       "    }\n",
       "\n",
       "    .dataframe thead th {\n",
       "        text-align: right;\n",
       "    }\n",
       "</style>\n",
       "<table border=\"1\" class=\"dataframe\">\n",
       "  <thead>\n",
       "    <tr style=\"text-align: right;\">\n",
       "      <th></th>\n",
       "      <th>Predicted \"not Survived\"</th>\n",
       "      <th>Predicted \"Survived\"</th>\n",
       "    </tr>\n",
       "  </thead>\n",
       "  <tbody>\n",
       "    <tr>\n",
       "      <th>Actually\"not Survived\"</th>\n",
       "      <td>92</td>\n",
       "      <td>16</td>\n",
       "    </tr>\n",
       "    <tr>\n",
       "      <th>Actually \"Survived\"</th>\n",
       "      <td>22</td>\n",
       "      <td>49</td>\n",
       "    </tr>\n",
       "  </tbody>\n",
       "</table>\n",
       "</div>"
      ],
      "text/plain": [
       "                        Predicted \"not Survived\"  Predicted \"Survived\"\n",
       "Actually\"not Survived\"                        92                    16\n",
       "Actually \"Survived\"                           22                    49"
      ]
     },
     "execution_count": 63,
     "metadata": {},
     "output_type": "execute_result"
    }
   ],
   "source": [
    "confusion_matrix = pd.DataFrame(confusion, index=['Actually\"not Survived\"','Actually \"Survived\"'], columns=['Predicted \"not Survived\"','Predicted \"Survived\"'])\n",
    "\n",
    "confusion_matrix"
   ]
  },
  {
   "cell_type": "code",
   "execution_count": 64,
   "metadata": {},
   "outputs": [
    {
     "data": {
      "image/png": "[encoded data removed]",
      "text/plain": [
       "<Figure size 432x288 with 2 Axes>"
      ]
     },
     "metadata": {
      "needs_background": "light"
     },
     "output_type": "display_data"
    }
   ],
   "source": [
    "_=sns.heatmap(confusion_matrix, cmap='coolwarm', annot=True)"
   ]
  },
  {
   "cell_type": "markdown",
   "metadata": {},
   "source": [
    "### Observations"
   ]
  },
  {
   "cell_type": "markdown",
   "metadata": {},
   "source": [
    "    \tTrue positives  (42): These are the cases when we predicted \"survival\" when the passenger is actually \"survived\".\n",
    "    \tTrue negatives  (95): We predicted \"not survived\" and the actual value was also “not survived” \n",
    "    \tFalse positives (29): We predicted “survival” but the passengers didn’t have survival(true value was “notsurvived”).\n",
    "    \tFalse negatives (13): We predicted “not survived” but the subjects had \"survived\" (true value was “survived”).\n"
   ]
  },
  {
   "cell_type": "markdown",
   "metadata": {},
   "source": [
    "### Calculate precision and recall scores"
   ]
  },
  {
   "cell_type": "code",
   "execution_count": 65,
   "metadata": {},
   "outputs": [],
   "source": [
    "from sklearn.metrics import precision_score, recall_score"
   ]
  },
  {
   "cell_type": "code",
   "execution_count": 66,
   "metadata": {},
   "outputs": [
    {
     "name": "stdout",
     "output_type": "stream",
     "text": [
      "precision_score     --> 0.7538461538461538\n",
      "recall_score        --> 0.6901408450704225\n"
     ]
    }
   ],
   "source": [
    "prec = precision_score(response_test, pred_survival_sk)\n",
    "rec = recall_score(response_test, pred_survival_sk)\n",
    "print('precision_score     -->',prec)\n",
    "print('recall_score        -->',rec)"
   ]
  },
  {
   "cell_type": "code",
   "execution_count": 67,
   "metadata": {},
   "outputs": [
    {
     "data": {
      "image/png": "[encoded data removed]",
      "text/plain": [
       "<Figure size 792x648 with 1 Axes>"
      ]
     },
     "metadata": {
      "needs_background": "light"
     },
     "output_type": "display_data"
    }
   ],
   "source": [
    "from sklearn.metrics import precision_recall_curve\n",
    "\n",
    "y_score = logit_sk.decision_function(predictors_test)\n",
    "\n",
    "precision, recall, _ = precision_recall_curve(response_test, y_score)\n",
    "plt.figure(figsize=[11,9])\n",
    "plt.plot(recall, precision, linewidth=4)\n",
    "plt.xlabel('Recall', fontsize=18)\n",
    "plt.ylabel('Precision', fontsize=18)\n",
    "plt.title('Precision Recall Curve for Titanic survivors', fontsize=18)\n",
    "plt.show()"
   ]
  },
  {
   "cell_type": "markdown",
   "metadata": {},
   "source": [
    "### Calculate F1 Score"
   ]
  },
  {
   "cell_type": "code",
   "execution_count": 68,
   "metadata": {},
   "outputs": [
    {
     "name": "stdout",
     "output_type": "stream",
     "text": [
      "f1_score        --> 0.7205882352941175\n"
     ]
    }
   ],
   "source": [
    "from sklearn.metrics import f1_score\n",
    "f=f1_score(response_test, pred_survival_sk)\n",
    "print('f1_score        -->',f)"
   ]
  },
  {
   "cell_type": "markdown",
   "metadata": {},
   "source": [
    "### Observations"
   ]
  },
  {
   "cell_type": "markdown",
   "metadata": {},
   "source": [
    "The high value of F1score is evident that the performance of model will be good"
   ]
  },
  {
   "cell_type": "markdown",
   "metadata": {},
   "source": [
    "# (11) Calculate Area under the ROC curve"
   ]
  },
  {
   "cell_type": "code",
   "execution_count": 69,
   "metadata": {},
   "outputs": [],
   "source": [
    "from sklearn.metrics import roc_curve, roc_auc_score"
   ]
  },
  {
   "cell_type": "markdown",
   "metadata": {},
   "source": [
    "### Calculate the probablities"
   ]
  },
  {
   "cell_type": "markdown",
   "metadata": {},
   "source": [
    "Let's take probablities from our classifier, instead of classes."
   ]
  },
  {
   "cell_type": "code",
   "execution_count": 70,
   "metadata": {},
   "outputs": [],
   "source": [
    "probability = logit_sk.predict_proba(predictors_test)[::,1]"
   ]
  },
  {
   "cell_type": "code",
   "execution_count": 71,
   "metadata": {},
   "outputs": [
    {
     "name": "stdout",
     "output_type": "stream",
     "text": [
      "Area Under Curve is -->  0.8435706833594158\n"
     ]
    }
   ],
   "source": [
    "\n",
    "area_UnderCurve = roc_auc_score(response_test, probability)\n",
    "print('Area Under Curve is --> ',area_UnderCurve)"
   ]
  },
  {
   "cell_type": "code",
   "execution_count": 72,
   "metadata": {},
   "outputs": [],
   "source": [
    "fpr, tpr, threshold = roc_curve(response_test, probability)"
   ]
  },
  {
   "cell_type": "markdown",
   "metadata": {},
   "source": [
    "### Plotting the ROC curve"
   ]
  },
  {
   "cell_type": "code",
   "execution_count": 73,
   "metadata": {},
   "outputs": [
    {
     "data": {
      "image/png": "[encoded data removed]",
      "text/plain": [
       "<Figure size 432x288 with 1 Axes>"
      ]
     },
     "metadata": {
      "needs_background": "light"
     },
     "output_type": "display_data"
    }
   ],
   "source": [
    "\n",
    "plt.title('ROC for Titanic survivors')\n",
    "plt.plot(fpr, tpr, 'b', label = 'AUC = %0.2f' % area_UnderCurve)\n",
    "plt.legend(loc = 'lower right')\n",
    "plt.plot([0, 1], [0, 1],'k--')\n",
    "plt.xlim([0, 1])\n",
    "plt.ylim([0, 1])\n",
    "plt.ylabel('True Positive Rate')\n",
    "plt.xlabel('False Positive Rate')\n",
    "plt.show()"
   ]
  },
  {
   "cell_type": "markdown",
   "metadata": {},
   "source": [
    "### Observations"
   ]
  },
  {
   "cell_type": "markdown",
   "metadata": {},
   "source": [
    "    The higher the area under the curve the more it tells how good the classification model is at distinguishing between two classes of cases.\n",
    "                                   \n",
    "     AUC refers to area under ROC curve. ROC stands for Receiver Operating Characteristic\n",
    "                                        "
   ]
  },
  {
   "cell_type": "markdown",
   "metadata": {},
   "source": [
    "We can also calculate the optimal threshold probability from this ROC curve."
   ]
  },
  {
   "cell_type": "code",
   "execution_count": 74,
   "metadata": {},
   "outputs": [],
   "source": [
    "\n",
    "optimal_index = np.argmax(tpr - fpr)\n",
    "optimal_cutoff = threshold[optimal_index]"
   ]
  },
  {
   "cell_type": "code",
   "execution_count": 75,
   "metadata": {},
   "outputs": [
    {
     "name": "stdout",
     "output_type": "stream",
     "text": [
      "optimal_cutoff is -->  0.5981085663699236\n"
     ]
    }
   ],
   "source": [
    "print('optimal_cutoff is --> ',optimal_cutoff) "
   ]
  },
  {
   "cell_type": "markdown",
   "metadata": {},
   "source": [
    "##### Update model based on optimal probability threshold\n"
   ]
  },
  {
   "cell_type": "markdown",
   "metadata": {},
   "source": [
    "\n",
    "Let's use this new optimal threshold and update our predictions"
   ]
  },
  {
   "cell_type": "code",
   "execution_count": 76,
   "metadata": {},
   "outputs": [
    {
     "name": "stdout",
     "output_type": "stream",
     "text": [
      "new_pred_survival is -->  [1 1 0 1 0 0 0 0 0 0 0 0 0 0 1 0 0 0 0 1 0 0 0 0 1 0 0 0 0 0 1 1 0 0 0 0 1\n",
      " 0 0 0 1 0 0 1 1 0 1 0 0 0 0 0 0 1 0 1 0 0 1 0 0 0 0 0 0 0 0 0 0 0 0 0 0 0\n",
      " 0 0 0 0 0 0 0 0 0 0 1 0 1 0 0 0 0 0 0 1 1 0 0 1 0 0 0 1 1 0 0 1 0 0 0 1 0\n",
      " 1 0 0 0 0 0 0 1 0 0 0 0 0 0 0 0 0 0 0 0 0 1 0 0 0 0 1 0 0 1 0 0 0 0 0 0 0\n",
      " 0 0 0 0 0 0 0 0 1 0 0 0 1 0 0 0 1 0 1 1 0 1 1 1 1 0 0 0 0 1 0]\n"
     ]
    }
   ],
   "source": [
    "new_pred_survival = np.where(probability > optimal_cutoff, 1, 0)\n",
    "\n",
    "print('new_pred_survival is --> ',new_pred_survival)"
   ]
  },
  {
   "cell_type": "code",
   "execution_count": 77,
   "metadata": {},
   "outputs": [],
   "source": [
    "from sklearn.metrics import confusion_matrix\n",
    "new_confusion = confusion_matrix (response_test, new_pred_survival)"
   ]
  },
  {
   "cell_type": "code",
   "execution_count": 78,
   "metadata": {},
   "outputs": [
    {
     "data": {
      "text/html": [
       "<div>\n",
       "<style scoped>\n",
       "    .dataframe tbody tr th:only-of-type {\n",
       "        vertical-align: middle;\n",
       "    }\n",
       "\n",
       "    .dataframe tbody tr th {\n",
       "        vertical-align: top;\n",
       "    }\n",
       "\n",
       "    .dataframe thead th {\n",
       "        text-align: right;\n",
       "    }\n",
       "</style>\n",
       "<table border=\"1\" class=\"dataframe\">\n",
       "  <thead>\n",
       "    <tr style=\"text-align: right;\">\n",
       "      <th></th>\n",
       "      <th>Predicted \"not Survived\"</th>\n",
       "      <th>Predicted \"Survived\"</th>\n",
       "    </tr>\n",
       "  </thead>\n",
       "  <tbody>\n",
       "    <tr>\n",
       "      <th>Actually\"not Survived\"</th>\n",
       "      <td>107</td>\n",
       "      <td>1</td>\n",
       "    </tr>\n",
       "    <tr>\n",
       "      <th>Actually \"Survived\"</th>\n",
       "      <td>32</td>\n",
       "      <td>39</td>\n",
       "    </tr>\n",
       "  </tbody>\n",
       "</table>\n",
       "</div>"
      ],
      "text/plain": [
       "                        Predicted \"not Survived\"  Predicted \"Survived\"\n",
       "Actually\"not Survived\"                       107                     1\n",
       "Actually \"Survived\"                           32                    39"
      ]
     },
     "execution_count": 78,
     "metadata": {},
     "output_type": "execute_result"
    }
   ],
   "source": [
    "\n",
    "new_confusion_matrix = pd.DataFrame(new_confusion, index=['Actually\"not Survived\"','Actually \"Survived\"'], columns=['Predicted \"not Survived\"','Predicted \"Survived\"'])\n",
    "\n",
    "new_confusion_matrix\n"
   ]
  },
  {
   "cell_type": "markdown",
   "metadata": {},
   "source": [
    "### Observations"
   ]
  },
  {
   "cell_type": "markdown",
   "metadata": {},
   "source": [
    "We see that prediction power of the model has increased with the optimal cutoff probability value"
   ]
  },
  {
   "cell_type": "markdown",
   "metadata": {},
   "source": [
    "##### Calculate the updated accuracy score and log loss metrics."
   ]
  },
  {
   "cell_type": "code",
   "execution_count": 79,
   "metadata": {},
   "outputs": [
    {
     "name": "stdout",
     "output_type": "stream",
     "text": [
      "Actual_accuracy_score --> 0.7877094972067039\n",
      "optimal_accuracy_score is -->  0.8156424581005587\n",
      "Actual_log_loss --> 7.332325679136812\n",
      "optimal_log_loss is -->  6.367488383404932\n"
     ]
    }
   ],
   "source": [
    "optimal_accuracy_score = accuracy_score(response_test, new_pred_survival)\n",
    "optimal_log_loss = log_loss(response_test, new_pred_survival)\n",
    "print('Actual_accuracy_score -->',predicted_accuracy)\n",
    "print('optimal_accuracy_score is --> ',optimal_accuracy_score)\n",
    "\n",
    "print('Actual_log_loss -->',pred_log_loss)\n",
    "print('optimal_log_loss is --> ',optimal_log_loss)\n",
    "\n"
   ]
  },
  {
   "cell_type": "markdown",
   "metadata": {},
   "source": [
    "### Observations"
   ]
  },
  {
   "cell_type": "markdown",
   "metadata": {},
   "source": [
    "We see that the log_loss is decreased and the accuracy of the prediction has increased when optimal cut off value of optimal cutoff probability"
   ]
  },
  {
   "cell_type": "code",
   "execution_count": null,
   "metadata": {},
   "outputs": [],
   "source": []
  },
  {
   "cell_type": "code",
   "execution_count": null,
   "metadata": {},
   "outputs": [],
   "source": []
  },
  {
   "cell_type": "code",
   "execution_count": null,
   "metadata": {},
   "outputs": [],
   "source": []
  }
 ],
 "metadata": {
  "kernelspec": {
   "display_name": "Python 3",
   "language": "python",
   "name": "python3"
  },
  "language_info": {
   "codemirror_mode": {
    "name": "ipython",
    "version": 3
   },
   "file_extension": ".py",
   "mimetype": "text/x-python",
   "name": "python",
   "nbconvert_exporter": "python",
   "pygments_lexer": "ipython3",
   "version": "3.7.0"
  }
 },
 "nbformat": 4,
 "nbformat_minor": 2
}
